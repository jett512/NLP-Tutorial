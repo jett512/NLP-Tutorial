{
  "nbformat": 4,
  "nbformat_minor": 0,
  "metadata": {
    "colab": {
      "provenance": []
    },
    "kernelspec": {
      "name": "python3",
      "display_name": "Python 3"
    },
    "language_info": {
      "name": "python"
    }
  },
  "cells": [
    {
      "cell_type": "code",
      "execution_count": null,
      "metadata": {
        "id": "ol_HXra-Rykq"
      },
      "outputs": [],
      "source": [
        "# Import all required libraries\n",
        "from google.colab import drive\n",
        "drive.mount('/content/drive')\n",
        "import glob\n",
        "import pandas as pd"
      ]
    },
    {
      "cell_type": "markdown",
      "source": [
        "# Combine all files"
      ],
      "metadata": {
        "id": "ADsVz96dYI9N"
      }
    },
    {
      "cell_type": "code",
      "source": [
        "!unzip /content/Raw.zip"
      ],
      "metadata": {
        "colab": {
          "base_uri": "https://localhost:8080/"
        },
        "id": "9yRF2pbcXpfX",
        "outputId": "a6f9bf7c-dba1-4495-8509-58a7c36c9b03"
      },
      "execution_count": null,
      "outputs": [
        {
          "output_type": "stream",
          "name": "stdout",
          "text": [
            "Archive:  /content/Raw.zip\n",
            " extracting: Raw/#bikeshare_0101_0406_2023.xlsx  \n",
            " extracting: Raw/#bikeshare_2007_2011.xlsx  \n",
            " extracting: Raw/#bikeshare_2012.xlsx  \n",
            " extracting: Raw/#bikeshare_2013.xlsx  \n",
            " extracting: Raw/#bikeshare_2014.xlsx  \n",
            " extracting: Raw/#bikeshare_2015.xlsx  \n",
            " extracting: Raw/#bikeshare_2016.xlsx  \n",
            " extracting: Raw/#bikeshare_2017.xlsx  \n",
            " extracting: Raw/#bikeshare_2018.xlsx  \n",
            " extracting: Raw/#bikeshare_2019.xlsx  \n",
            " extracting: Raw/#bikeshare_2020.xlsx  \n",
            " extracting: Raw/#bikeshare_2021.xlsx  \n",
            " extracting: Raw/#bikeshare_2022.xlsx  \n",
            " extracting: Raw/Bikeshare_tweets_example.xlsx  \n",
            " extracting: Raw/Bikeshare_tweets-original.xlsx  \n"
          ]
        }
      ]
    },
    {
      "cell_type": "code",
      "source": [
        "\n",
        "\n",
        "\n",
        "# Get a list of all Excel files in a directory\n",
        "file_paths = glob.glob(\"/content/Raw/*.xlsx\")\n",
        "\n",
        "# Create an empty DataFrame to store the combined data\n",
        "combined_df = pd.DataFrame()\n",
        "\n",
        "# Iterate over each file\n",
        "for file_path in file_paths:\n",
        "    # Read the Excel file into a DataFrame\n",
        "    df = pd.read_excel(file_path)\n",
        "\n",
        "    # Append the data to the combined DataFrame\n",
        "    combined_df = combined_df.append(df, ignore_index=True)\n",
        "\n",
        "# Print the combined DataFrame\n",
        "print(combined_df.head())\n"
      ],
      "metadata": {
        "colab": {
          "base_uri": "https://localhost:8080/"
        },
        "id": "qf69DHevYIlY",
        "outputId": "364bf95b-f3c4-4467-be9a-118c43bae38c"
      },
      "execution_count": null,
      "outputs": [
        {
          "output_type": "stream",
          "name": "stdout",
          "text": [
            "              tweet_id    user_username  \\\n",
            "0  1476658643760254980   WalterDeleonDC   \n",
            "1  1476606877374959634          bobco85   \n",
            "2  1476263241923784708          bobco85   \n",
            "3  1474152800665968640  Neighborhoodist   \n",
            "4  1474129876118552583    ShabazzStuart   \n",
            "\n",
            "                                                text lang  \\\n",
            "0  ↕️ And the upcoming @ecobici revamp will upgra...   en   \n",
            "1  @transitrunner @bikeshare Awesome, I’m glad yo...   en   \n",
            "2  @0joehand There is a distinct lack of both loa...   en   \n",
            "3  A Park Slope side street just being too damn c...   en   \n",
            "4  @jmp_nyc @bikeloveny @CitiBikeNYC NYPD bikesha...   en   \n",
            "\n",
            "       conversation_id  possibly_sensitive  author_id  \\\n",
            "0  1426297422985277440               False   60937618   \n",
            "1  1476592336037715972               False  359595706   \n",
            "2  1476257937194569728               False  359595706   \n",
            "3  1474152800665968640               False   21977995   \n",
            "4  1474129088944214025               False  455501785   \n",
            "\n",
            "                 created_at  in_reply_to_user_id           user_created_at  \\\n",
            "0  2021-12-30T20:57:10.000Z         6.093762e+07  2009-07-28T15:47:28.000Z   \n",
            "1  2021-12-30T17:31:28.000Z         1.559498e+09  2011-08-21T21:20:51.000Z   \n",
            "2  2021-12-29T18:45:59.000Z         1.531933e+08  2011-08-21T21:20:51.000Z   \n",
            "3  2021-12-23T22:59:50.000Z                  NaN  2009-02-26T05:25:34.000Z   \n",
            "4  2021-12-23T21:28:45.000Z         3.249563e+08  2012-01-05T05:34:54.000Z   \n",
            "\n",
            "   ... quote_count  user_tweet_count user_list_count user_followers_count  \\\n",
            "0  ...           0             11446              43                 1615   \n",
            "1  ...           0              9972              33                 1018   \n",
            "2  ...           0              9972              33                 1018   \n",
            "3  ...           0              8371             124                 1321   \n",
            "4  ...           0             28974             195                13198   \n",
            "\n",
            "  user_following_count sourcetweet_type  sourcetweet_id  \\\n",
            "0                  538           quoted    1.476344e+18   \n",
            "1                  912              NaN             NaN   \n",
            "2                  912              NaN             NaN   \n",
            "3                  981              NaN             NaN   \n",
            "4                 2128              NaN             NaN   \n",
            "\n",
            "                                    sourcetweet_text  sourcetweet_lang  \\\n",
            "0  Ya está en marcha el proceso de renovación y e...                es   \n",
            "1                                                NaN               NaN   \n",
            "2                                                NaN               NaN   \n",
            "3                                                NaN               NaN   \n",
            "4                                                NaN               NaN   \n",
            "\n",
            "   sourcetweet_author_id  \n",
            "0           1.020353e+09  \n",
            "1                    NaN  \n",
            "2                    NaN  \n",
            "3                    NaN  \n",
            "4                    NaN  \n",
            "\n",
            "[5 rows x 30 columns]\n"
          ]
        }
      ]
    },
    {
      "cell_type": "code",
      "source": [
        "combined_df.columns"
      ],
      "metadata": {
        "colab": {
          "base_uri": "https://localhost:8080/"
        },
        "id": "0ceMWGFsY-bU",
        "outputId": "902d90e2-774c-411b-ff50-53625032b7a6"
      },
      "execution_count": null,
      "outputs": [
        {
          "output_type": "execute_result",
          "data": {
            "text/plain": [
              "Index(['tweet_id', 'user_username', 'text', 'lang', 'conversation_id',\n",
              "       'possibly_sensitive', 'author_id', 'created_at', 'in_reply_to_user_id',\n",
              "       'user_created_at', 'user_location', 'user_verified', 'user_description',\n",
              "       'user_name', 'user_url', 'user_profile_image_url', 'user_protected',\n",
              "       'user_pinned_tweet_id', 'retweet_count', 'like_count', 'quote_count',\n",
              "       'user_tweet_count', 'user_list_count', 'user_followers_count',\n",
              "       'user_following_count', 'sourcetweet_type', 'sourcetweet_id',\n",
              "       'sourcetweet_text', 'sourcetweet_lang', 'sourcetweet_author_id'],\n",
              "      dtype='object')"
            ]
          },
          "metadata": {},
          "execution_count": 8
        }
      ]
    },
    {
      "cell_type": "code",
      "source": [
        "# Save the combined DataFrame as an Excel file\n",
        "combined_df.to_excel(\"/content/drive/MyDrive/Subasish(2023)_Twitter/Tutorial/Bikeshare_tweets.xlsx\", index=False)"
      ],
      "metadata": {
        "id": "NX-NiDqdZLE5"
      },
      "execution_count": null,
      "outputs": []
    },
    {
      "cell_type": "code",
      "source": [
        "len(combined_df)"
      ],
      "metadata": {
        "colab": {
          "base_uri": "https://localhost:8080/"
        },
        "id": "ngFsZOyesGyf",
        "outputId": "5a1b1ef6-4441-430e-903f-c47ef56cff2a"
      },
      "execution_count": null,
      "outputs": [
        {
          "output_type": "execute_result",
          "data": {
            "text/plain": [
              "15522"
            ]
          },
          "metadata": {},
          "execution_count": 10
        }
      ]
    }
  ]
}